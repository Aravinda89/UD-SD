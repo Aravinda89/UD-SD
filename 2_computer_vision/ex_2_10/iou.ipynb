{
 "cells": [
  {
   "cell_type": "code",
   "execution_count": 1,
   "id": "be8fd870-c8ab-477a-a0e7-b6610be9a6c5",
   "metadata": {},
   "outputs": [],
   "source": [
    "import numpy as np\n",
    "from utils import get_data, check_results"
   ]
  },
  {
   "cell_type": "code",
   "execution_count": 22,
   "id": "d0cae1b8-0c4f-4767-b659-aab5822ba927",
   "metadata": {},
   "outputs": [],
   "source": [
    "def calculate_iou(gt_bbox, pred_bbox):\n",
    "    \"\"\"\n",
    "    calculate iou \n",
    "    args:\n",
    "    - gt_bbox [array]: 1x4 single gt bbox\n",
    "    - pred_bbox [array]: 1x4 single pred bbox\n",
    "    returns:\n",
    "    - iou [float]: iou between 2 bboxes\n",
    "    \"\"\"\n",
    "    xmin = np.max([gt_bbox[0], pred_bbox[0]])\n",
    "    ymin = np.max([gt_bbox[1], pred_bbox[1]])\n",
    "    xmax = np.min([gt_bbox[2], pred_bbox[2]])\n",
    "    ymax = np.min([gt_bbox[3], pred_bbox[3]])\n",
    "    \n",
    "    intersection = max(0, xmax - xmin + 1) * max(0, ymax - ymin + 1)\n",
    "    gt_area = (gt_bbox[2] - gt_bbox[0]) * (gt_bbox[3] - gt_bbox[1])\n",
    "    pred_area = (pred_bbox[2] - pred_bbox[0]) * (pred_bbox[3] - pred_bbox[1])\n",
    "    \n",
    "    union = gt_area + pred_area - intersection\n",
    "    return intersection / union\n",
    "\n",
    "\n",
    "def calculate_ious(gt_bboxes, pred_bboxes):\n",
    "    \"\"\"\n",
    "    calculate ious between 2 sets of bboxes \n",
    "    args:\n",
    "    - gt_bboxes [array]: Nx4 ground truth array\n",
    "    - pred_bboxes [array]: Mx4 pred array\n",
    "    returns:\n",
    "    - iou [array]: NxM array of ious\n",
    "    \"\"\"\n",
    "    ious = np.zeros((gt_bboxes.shape[0], pred_bboxes.shape[0]))\n",
    "    for i, gt_bbox in enumerate(gt_bboxes):\n",
    "        for j, pred_bbox in enumerate(pred_bboxes):\n",
    "            ious[i,j] = calculate_iou(gt_bbox, pred_bbox)\n",
    "    return ious"
   ]
  },
  {
   "cell_type": "code",
   "execution_count": 15,
   "id": "458b0958-d3a8-4083-816d-e8a41f69ce4d",
   "metadata": {},
   "outputs": [],
   "source": [
    "ground_truth, predictions = get_data()"
   ]
  },
  {
   "cell_type": "code",
   "execution_count": 16,
   "id": "8e23cd05-b9fe-4ce0-a6c8-61792cfa7a94",
   "metadata": {
    "scrolled": true
   },
   "outputs": [
    {
     "data": {
      "text/plain": [
       "{'boxes': [[576, 545, 617, 584],\n",
       "  [551, 628, 573, 651],\n",
       "  [508, 437, 646, 552],\n",
       "  [584, 1021, 679, 1057],\n",
       "  [521, 716, 627, 756],\n",
       "  [550, 711, 600, 729],\n",
       "  [586, 558, 630, 617],\n",
       "  [614, 76, 653, 105],\n",
       "  [567, 910, 598, 927],\n",
       "  [604, 1188, 826, 1244],\n",
       "  [561, 542, 579, 563],\n",
       "  [557, 654, 583, 684],\n",
       "  [589, 1190, 655, 1240],\n",
       "  [562, 559, 578, 578],\n",
       "  [603, 1723, 857, 1821],\n",
       "  [578, 881, 686, 923],\n",
       "  [586, 942, 671, 971],\n",
       "  [581, 996, 661, 1023],\n",
       "  [597, 1105, 761, 1250],\n",
       "  [586, 625, 646, 703],\n",
       "  [558, 892, 589, 908],\n",
       "  [593, 907, 684, 941],\n",
       "  [577, 987, 650, 1014],\n",
       "  [569, 1593, 613, 1613],\n",
       "  [577, 1109, 665, 1129],\n",
       "  [560, 942, 601, 963],\n",
       "  [574, 1107, 665, 1149],\n",
       "  [525, 321, 682, 466],\n",
       "  [599, 1151, 809, 1206],\n",
       "  [560, 608, 594, 642],\n",
       "  [581, 512, 639, 537],\n",
       "  [538, 685, 577, 706],\n",
       "  [541, 543, 581, 591],\n",
       "  [611, 94, 671, 123],\n",
       "  [582, 1069, 681, 1110],\n",
       "  [562, 900, 604, 918],\n",
       "  [588, 1723, 900, 1872],\n",
       "  [557, 870, 608, 883],\n",
       "  [565, 956, 633, 983],\n",
       "  [644, 0, 912, 192],\n",
       "  [545, 643, 563, 691],\n",
       "  [552, 656, 566, 682],\n",
       "  [576, 576, 616, 629],\n",
       "  [578, 1000, 685, 1047],\n",
       "  [488, 739, 664, 876],\n",
       "  [578, 1598, 842, 1646],\n",
       "  [552, 691, 592, 721],\n",
       "  [536, 694, 564, 729]],\n",
       " 'classes': [1,\n",
       "  1,\n",
       "  1,\n",
       "  2,\n",
       "  1,\n",
       "  1,\n",
       "  1,\n",
       "  2,\n",
       "  2,\n",
       "  2,\n",
       "  1,\n",
       "  1,\n",
       "  2,\n",
       "  1,\n",
       "  2,\n",
       "  2,\n",
       "  2,\n",
       "  2,\n",
       "  1,\n",
       "  1,\n",
       "  2,\n",
       "  2,\n",
       "  2,\n",
       "  1,\n",
       "  2,\n",
       "  2,\n",
       "  2,\n",
       "  1,\n",
       "  2,\n",
       "  1,\n",
       "  2,\n",
       "  1,\n",
       "  1,\n",
       "  2,\n",
       "  2,\n",
       "  2,\n",
       "  2,\n",
       "  2,\n",
       "  2,\n",
       "  1,\n",
       "  1,\n",
       "  1,\n",
       "  1,\n",
       "  2,\n",
       "  1,\n",
       "  2,\n",
       "  1,\n",
       "  1],\n",
       " 'filename': 'segment-12251442326766052580_1840_000_1860_000_with_camera_labels_90.png'}"
      ]
     },
     "execution_count": 16,
     "metadata": {},
     "output_type": "execute_result"
    }
   ],
   "source": [
    "ground_truth[0]"
   ]
  },
  {
   "cell_type": "code",
   "execution_count": 17,
   "id": "64309e0f-fe73-49bc-a1fb-5d2decfccdc9",
   "metadata": {},
   "outputs": [
    {
     "data": {
      "text/plain": [
       "{'boxes': [[783, 1104, 1011, 1700],\n",
       "  [853, 0, 1220, 200],\n",
       "  [734, 0, 1100, 240],\n",
       "  [753, 474, 868, 609],\n",
       "  [830, 1500, 1004, 1914]],\n",
       " 'classes': [1, 2, 1, 2, 1],\n",
       " 'filename': 'segment-1231623110026745648_480_000_500_000_with_camera_labels_38.png'}"
      ]
     },
     "execution_count": 17,
     "metadata": {},
     "output_type": "execute_result"
    }
   ],
   "source": [
    "predictions[0]"
   ]
  },
  {
   "cell_type": "code",
   "execution_count": 18,
   "id": "25b4dfc0-efd1-48bd-ac98-67d25ee9219c",
   "metadata": {},
   "outputs": [],
   "source": [
    "filename = 'segment-1231623110026745648_480_000_500_000_with_camera_labels_38.png'"
   ]
  },
  {
   "cell_type": "code",
   "execution_count": 19,
   "id": "10258b11-92fb-408b-baea-755a8dd73218",
   "metadata": {},
   "outputs": [
    {
     "data": {
      "text/plain": [
       "array([[ 793, 1134, 1001, 1718],\n",
       "       [ 737,    0,  898,  260],\n",
       "       [ 763,  484,  878,  619],\n",
       "       [ 734,    0, 1114,  277],\n",
       "       [ 853,    0, 1280,  250],\n",
       "       [ 820, 1566,  974, 1914],\n",
       "       [ 762,  951,  844, 1175],\n",
       "       [ 748,  197,  803,  363]])"
      ]
     },
     "execution_count": 19,
     "metadata": {},
     "output_type": "execute_result"
    }
   ],
   "source": [
    "gt_bboxes = [g['boxes'] for g in ground_truth if g['filename'] == filename][0]\n",
    "gt_bboxes = np.array(gt_bboxes)\n",
    "gt_bboxes"
   ]
  },
  {
   "cell_type": "code",
   "execution_count": 20,
   "id": "d9faee8d-99a8-445b-a955-c034fc0ca2a1",
   "metadata": {},
   "outputs": [
    {
     "data": {
      "text/plain": [
       "array([[ 783, 1104, 1011, 1700],\n",
       "       [ 853,    0, 1220,  200],\n",
       "       [ 734,    0, 1100,  240],\n",
       "       [ 753,  474,  868,  609],\n",
       "       [ 830, 1500, 1004, 1914]])"
      ]
     },
     "execution_count": 20,
     "metadata": {},
     "output_type": "execute_result"
    }
   ],
   "source": [
    "pred_bboxes = [p['boxes'] for p in predictions if p['filename'] == filename][0]\n",
    "pred_boxes = np.array(pred_bboxes)\n",
    "pred_boxes"
   ]
  },
  {
   "cell_type": "code",
   "execution_count": 23,
   "id": "2d463a63-ee93-4a4c-97a6-eee8e7cdf7ec",
   "metadata": {},
   "outputs": [
    {
     "data": {
      "text/plain": [
       "array([[0.85341754, 0.        , 0.        , 0.        , 0.24170945],\n",
       "       [0.        , 0.0872149 , 0.43065146, 0.        , 0.        ],\n",
       "       [0.        , 0.        , 0.        , 0.75483215, 0.        ],\n",
       "       [0.        , 0.41795902, 0.84514539, 0.        , 0.        ],\n",
       "       [0.        , 0.69661525, 0.44331044, 0.        , 0.        ],\n",
       "       [0.12414345, 0.        , 0.        , 0.        , 0.67452648],\n",
       "       [0.02980132, 0.        , 0.        , 0.        , 0.        ],\n",
       "       [0.        , 0.        , 0.02607242, 0.        , 0.        ]])"
      ]
     },
     "execution_count": 23,
     "metadata": {},
     "output_type": "execute_result"
    }
   ],
   "source": [
    "ious = calculate_ious(gt_bboxes, pred_boxes)\n",
    "ious"
   ]
  },
  {
   "cell_type": "code",
   "execution_count": 24,
   "id": "67d0526b-00e7-4d12-b2ec-777cddb5826e",
   "metadata": {},
   "outputs": [
    {
     "ename": "AssertionError",
     "evalue": "The iou calculation is wrong!",
     "output_type": "error",
     "traceback": [
      "\u001b[1;31m-------------------------------------------------\u001b[0m",
      "\u001b[1;31mAssertionError\u001b[0m  Traceback (most recent call last)",
      "Cell \u001b[1;32mIn[24], line 1\u001b[0m\n\u001b[1;32m----> 1\u001b[0m \u001b[43mcheck_results\u001b[49m\u001b[43m(\u001b[49m\u001b[43mious\u001b[49m\u001b[43m)\u001b[49m\n",
      "File \u001b[1;32m~\\Documents\\Projects\\UD-SD\\2_CV_excercise_2_10\\utils.py:9\u001b[0m, in \u001b[0;36mcheck_results\u001b[1;34m(ious)\u001b[0m\n\u001b[0;32m      6\u001b[0m \u001b[38;5;28;01mdef\u001b[39;00m \u001b[38;5;21mcheck_results\u001b[39m(ious):\n\u001b[0;32m      7\u001b[0m     \u001b[38;5;66;03m# check the results\u001b[39;00m\n\u001b[0;32m      8\u001b[0m     solution \u001b[38;5;241m=\u001b[39m np\u001b[38;5;241m.\u001b[39mload(\u001b[38;5;124m'\u001b[39m\u001b[38;5;124m./data/exercise1_check.npy\u001b[39m\u001b[38;5;124m'\u001b[39m)\n\u001b[1;32m----> 9\u001b[0m     \u001b[38;5;28;01massert\u001b[39;00m (ious \u001b[38;5;241m==\u001b[39m solution)\u001b[38;5;241m.\u001b[39msum() \u001b[38;5;241m==\u001b[39m \u001b[38;5;241m40\u001b[39m, \u001b[38;5;124m'\u001b[39m\u001b[38;5;124mThe iou calculation is wrong!\u001b[39m\u001b[38;5;124m'\u001b[39m\n\u001b[0;32m     10\u001b[0m     \u001b[38;5;28mprint\u001b[39m(\u001b[38;5;124m'\u001b[39m\u001b[38;5;124mCongrats, the iou calculation is correct!\u001b[39m\u001b[38;5;124m'\u001b[39m)\n",
      "\u001b[1;31mAssertionError\u001b[0m: The iou calculation is wrong!"
     ]
    }
   ],
   "source": [
    "check_results(ious)"
   ]
  },
  {
   "cell_type": "code",
   "execution_count": 25,
   "id": "ced41ac6-ae78-4df0-91e3-b36fb4f3b080",
   "metadata": {},
   "outputs": [
    {
     "data": {
      "text/plain": [
       "array([[0.84313051, 0.        , 0.        , 0.        , 0.23860974],\n",
       "       [0.        , 0.08469791, 0.4243356 , 0.        , 0.        ],\n",
       "       [0.        , 0.        , 0.        , 0.73221757, 0.        ],\n",
       "       [0.        , 0.41277874, 0.83450504, 0.        , 0.        ],\n",
       "       [0.        , 0.68758782, 0.43810509, 0.        , 0.        ],\n",
       "       [0.12221933, 0.        , 0.        , 0.        , 0.66359447],\n",
       "       [0.02888778, 0.        , 0.        , 0.        , 0.        ],\n",
       "       [0.        , 0.        , 0.02499868, 0.        , 0.        ]])"
      ]
     },
     "execution_count": 25,
     "metadata": {},
     "output_type": "execute_result"
    }
   ],
   "source": [
    "np.load('./data/exercise1_check.npy')"
   ]
  },
  {
   "cell_type": "code",
   "execution_count": null,
   "id": "e4864fee-2b32-4693-b622-18dadd3fe8ad",
   "metadata": {},
   "outputs": [],
   "source": []
  }
 ],
 "metadata": {
  "kernelspec": {
   "display_name": "TF_env",
   "language": "python",
   "name": "tf_env"
  },
  "language_info": {
   "codemirror_mode": {
    "name": "ipython",
    "version": 3
   },
   "file_extension": ".py",
   "mimetype": "text/x-python",
   "name": "python",
   "nbconvert_exporter": "python",
   "pygments_lexer": "ipython3",
   "version": "3.9.18"
  }
 },
 "nbformat": 4,
 "nbformat_minor": 5
}
