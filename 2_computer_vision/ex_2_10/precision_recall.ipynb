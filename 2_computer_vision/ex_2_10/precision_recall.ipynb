{
 "cells": [
  {
   "cell_type": "code",
   "execution_count": 1,
   "id": "760318d9-c5b7-4dc7-ab6c-ce137fd87f84",
   "metadata": {},
   "outputs": [],
   "source": [
    "import numpy as np\n",
    "\n",
    "from iou import calculate_ious\n",
    "from utils import get_data"
   ]
  },
  {
   "cell_type": "code",
   "execution_count": 2,
   "id": "897c5787-c476-46cb-84fa-7b79f27db1c5",
   "metadata": {},
   "outputs": [],
   "source": [
    "def precision_recall(ious, gt_classes, pred_classes):\n",
    "    \"\"\"\n",
    "    calculate precision and recall\n",
    "    args:\n",
    "    - ious [array]: NxM array of ious\n",
    "    - gt_classes [array]: 1xN array of ground truth classes\n",
    "    - pred_classes [array]: 1xM array of pred classes\n",
    "    returns:\n",
    "    - precision [float]\n",
    "    - recall [float]\n",
    "    \"\"\"\n",
    "    xs, ys = np.where(ious>0.5)\n",
    "\n",
    "    # calculate true positive and true negative\n",
    "    tps = 0\n",
    "    fps = 0\n",
    "    for x, y in zip(xs, ys):\n",
    "        if gt_classes[x] == pred_classes[y]:\n",
    "            tps += 1\n",
    "        else:\n",
    "            fps += 1\n",
    "\n",
    "    matched_gt = len(np.unique(xs))\n",
    "    fns = len(gt_classes) - matched_gt\n",
    "\n",
    "    precision = tps / (tps+fps)\n",
    "    recall = tps / (tps + fns)\n",
    "    return precision, recall"
   ]
  },
  {
   "cell_type": "code",
   "execution_count": 3,
   "id": "ccd7b736-4b90-49c9-9349-345404453933",
   "metadata": {},
   "outputs": [],
   "source": [
    "ground_truth, predictions = get_data()"
   ]
  },
  {
   "cell_type": "code",
   "execution_count": 4,
   "id": "ba30d70c-ad68-42cd-b95b-cf54592f96e7",
   "metadata": {
    "scrolled": true
   },
   "outputs": [
    {
     "data": {
      "text/plain": [
       "{'boxes': [[576, 545, 617, 584],\n",
       "  [551, 628, 573, 651],\n",
       "  [508, 437, 646, 552],\n",
       "  [584, 1021, 679, 1057],\n",
       "  [521, 716, 627, 756],\n",
       "  [550, 711, 600, 729],\n",
       "  [586, 558, 630, 617],\n",
       "  [614, 76, 653, 105],\n",
       "  [567, 910, 598, 927],\n",
       "  [604, 1188, 826, 1244],\n",
       "  [561, 542, 579, 563],\n",
       "  [557, 654, 583, 684],\n",
       "  [589, 1190, 655, 1240],\n",
       "  [562, 559, 578, 578],\n",
       "  [603, 1723, 857, 1821],\n",
       "  [578, 881, 686, 923],\n",
       "  [586, 942, 671, 971],\n",
       "  [581, 996, 661, 1023],\n",
       "  [597, 1105, 761, 1250],\n",
       "  [586, 625, 646, 703],\n",
       "  [558, 892, 589, 908],\n",
       "  [593, 907, 684, 941],\n",
       "  [577, 987, 650, 1014],\n",
       "  [569, 1593, 613, 1613],\n",
       "  [577, 1109, 665, 1129],\n",
       "  [560, 942, 601, 963],\n",
       "  [574, 1107, 665, 1149],\n",
       "  [525, 321, 682, 466],\n",
       "  [599, 1151, 809, 1206],\n",
       "  [560, 608, 594, 642],\n",
       "  [581, 512, 639, 537],\n",
       "  [538, 685, 577, 706],\n",
       "  [541, 543, 581, 591],\n",
       "  [611, 94, 671, 123],\n",
       "  [582, 1069, 681, 1110],\n",
       "  [562, 900, 604, 918],\n",
       "  [588, 1723, 900, 1872],\n",
       "  [557, 870, 608, 883],\n",
       "  [565, 956, 633, 983],\n",
       "  [644, 0, 912, 192],\n",
       "  [545, 643, 563, 691],\n",
       "  [552, 656, 566, 682],\n",
       "  [576, 576, 616, 629],\n",
       "  [578, 1000, 685, 1047],\n",
       "  [488, 739, 664, 876],\n",
       "  [578, 1598, 842, 1646],\n",
       "  [552, 691, 592, 721],\n",
       "  [536, 694, 564, 729]],\n",
       " 'classes': [1,\n",
       "  1,\n",
       "  1,\n",
       "  2,\n",
       "  1,\n",
       "  1,\n",
       "  1,\n",
       "  2,\n",
       "  2,\n",
       "  2,\n",
       "  1,\n",
       "  1,\n",
       "  2,\n",
       "  1,\n",
       "  2,\n",
       "  2,\n",
       "  2,\n",
       "  2,\n",
       "  1,\n",
       "  1,\n",
       "  2,\n",
       "  2,\n",
       "  2,\n",
       "  1,\n",
       "  2,\n",
       "  2,\n",
       "  2,\n",
       "  1,\n",
       "  2,\n",
       "  1,\n",
       "  2,\n",
       "  1,\n",
       "  1,\n",
       "  2,\n",
       "  2,\n",
       "  2,\n",
       "  2,\n",
       "  2,\n",
       "  2,\n",
       "  1,\n",
       "  1,\n",
       "  1,\n",
       "  1,\n",
       "  2,\n",
       "  1,\n",
       "  2,\n",
       "  1,\n",
       "  1],\n",
       " 'filename': 'segment-12251442326766052580_1840_000_1860_000_with_camera_labels_90.png'}"
      ]
     },
     "execution_count": 4,
     "metadata": {},
     "output_type": "execute_result"
    }
   ],
   "source": [
    "ground_truth[0]"
   ]
  },
  {
   "cell_type": "code",
   "execution_count": 5,
   "id": "90142573-b92c-4af6-bf3b-75a0e63373fc",
   "metadata": {},
   "outputs": [
    {
     "data": {
      "text/plain": [
       "{'boxes': [[783, 1104, 1011, 1700],\n",
       "  [853, 0, 1220, 200],\n",
       "  [734, 0, 1100, 240],\n",
       "  [753, 474, 868, 609],\n",
       "  [830, 1500, 1004, 1914]],\n",
       " 'classes': [1, 2, 1, 2, 1],\n",
       " 'filename': 'segment-1231623110026745648_480_000_500_000_with_camera_labels_38.png'}"
      ]
     },
     "execution_count": 5,
     "metadata": {},
     "output_type": "execute_result"
    }
   ],
   "source": [
    "predictions[0]"
   ]
  },
  {
   "cell_type": "code",
   "execution_count": 6,
   "id": "fdb9852e-4386-442f-89d2-3439f83ff225",
   "metadata": {},
   "outputs": [],
   "source": [
    "filename = 'segment-1231623110026745648_480_000_500_000_with_camera_labels_38.png'"
   ]
  },
  {
   "cell_type": "code",
   "execution_count": 9,
   "id": "3c6f8985-643e-4f4f-ba60-c1de295f43ae",
   "metadata": {},
   "outputs": [
    {
     "data": {
      "text/plain": [
       "array([[ 793, 1134, 1001, 1718],\n",
       "       [ 737,    0,  898,  260],\n",
       "       [ 763,  484,  878,  619],\n",
       "       [ 734,    0, 1114,  277],\n",
       "       [ 853,    0, 1280,  250],\n",
       "       [ 820, 1566,  974, 1914],\n",
       "       [ 762,  951,  844, 1175],\n",
       "       [ 748,  197,  803,  363]])"
      ]
     },
     "execution_count": 9,
     "metadata": {},
     "output_type": "execute_result"
    }
   ],
   "source": [
    "gt_bboxes = [g['boxes'] for g in ground_truth if g['filename'] == filename][0]\n",
    "gt_bboxes = np.array(gt_bboxes)\n",
    "gt_bboxes"
   ]
  },
  {
   "cell_type": "code",
   "execution_count": 8,
   "id": "cf3a0178-0e41-411b-9fe1-6fc66fc98e39",
   "metadata": {},
   "outputs": [
    {
     "data": {
      "text/plain": [
       "[1, 1, 1, 1, 2, 1, 1, 1]"
      ]
     },
     "execution_count": 8,
     "metadata": {},
     "output_type": "execute_result"
    }
   ],
   "source": [
    "gt_classes = [g['classes'] for g in ground_truth if g['filename'] == filename][0]\n",
    "gt_classes"
   ]
  },
  {
   "cell_type": "code",
   "execution_count": 10,
   "id": "424ab3c1-09c3-43cb-a4ca-86f5c58360a6",
   "metadata": {},
   "outputs": [
    {
     "data": {
      "text/plain": [
       "array([[ 783, 1104, 1011, 1700],\n",
       "       [ 853,    0, 1220,  200],\n",
       "       [ 734,    0, 1100,  240],\n",
       "       [ 753,  474,  868,  609],\n",
       "       [ 830, 1500, 1004, 1914]])"
      ]
     },
     "execution_count": 10,
     "metadata": {},
     "output_type": "execute_result"
    }
   ],
   "source": [
    "pred_bboxes = [p['boxes'] for p in predictions if p['filename'] == filename][0]\n",
    "pred_boxes = np.array(pred_bboxes)\n",
    "pred_boxes"
   ]
  },
  {
   "cell_type": "code",
   "execution_count": 11,
   "id": "dc1a93e0-5b0a-40d1-bed1-8badeec40ac4",
   "metadata": {},
   "outputs": [
    {
     "data": {
      "text/plain": [
       "[1, 2, 1, 2, 1]"
      ]
     },
     "execution_count": 11,
     "metadata": {},
     "output_type": "execute_result"
    }
   ],
   "source": [
    "pred_classes = [p['classes'] for p in predictions if p['filename'] == filename][0]\n",
    "pred_classes"
   ]
  },
  {
   "cell_type": "code",
   "execution_count": 12,
   "id": "856555f5-18c6-4f41-a7ac-90ce485eccbc",
   "metadata": {},
   "outputs": [
    {
     "data": {
      "text/plain": [
       "array([[0.84313051, 0.        , 0.        , 0.        , 0.23860974],\n",
       "       [0.        , 0.08469791, 0.4243356 , 0.        , 0.        ],\n",
       "       [0.        , 0.        , 0.        , 0.73221757, 0.        ],\n",
       "       [0.        , 0.41277874, 0.83450504, 0.        , 0.        ],\n",
       "       [0.        , 0.68758782, 0.43810509, 0.        , 0.        ],\n",
       "       [0.12221933, 0.        , 0.        , 0.        , 0.66359447],\n",
       "       [0.02888778, 0.        , 0.        , 0.        , 0.        ],\n",
       "       [0.        , 0.        , 0.02499868, 0.        , 0.        ]])"
      ]
     },
     "execution_count": 12,
     "metadata": {},
     "output_type": "execute_result"
    }
   ],
   "source": [
    "ious = calculate_ious(gt_bboxes, pred_boxes)\n",
    "ious"
   ]
  },
  {
   "cell_type": "code",
   "execution_count": 13,
   "id": "b82f6470-73d9-4d37-a112-d78d0f5a3190",
   "metadata": {},
   "outputs": [],
   "source": [
    "precision, recall = precision_recall(ious, gt_classes, pred_classes)"
   ]
  },
  {
   "cell_type": "code",
   "execution_count": 15,
   "id": "3c795278-8b03-4c4c-80b1-aa9704cea28a",
   "metadata": {},
   "outputs": [
    {
     "data": {
      "text/plain": [
       "0.5714285714285714"
      ]
     },
     "execution_count": 15,
     "metadata": {},
     "output_type": "execute_result"
    }
   ],
   "source": [
    "recall"
   ]
  },
  {
   "cell_type": "code",
   "execution_count": 14,
   "id": "45a13ee5-85fd-4f06-8a00-016b60046591",
   "metadata": {},
   "outputs": [
    {
     "data": {
      "text/plain": [
       "0.8"
      ]
     },
     "execution_count": 14,
     "metadata": {},
     "output_type": "execute_result"
    }
   ],
   "source": [
    "precision"
   ]
  }
 ],
 "metadata": {
  "kernelspec": {
   "display_name": "TF_env",
   "language": "python",
   "name": "tf_env"
  },
  "language_info": {
   "codemirror_mode": {
    "name": "ipython",
    "version": 3
   },
   "file_extension": ".py",
   "mimetype": "text/x-python",
   "name": "python",
   "nbconvert_exporter": "python",
   "pygments_lexer": "ipython3",
   "version": "3.9.18"
  }
 },
 "nbformat": 4,
 "nbformat_minor": 5
}
