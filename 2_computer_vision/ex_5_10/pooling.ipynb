{
 "cells": [
  {
   "cell_type": "code",
   "execution_count": 5,
   "id": "782cf715",
   "metadata": {},
   "outputs": [],
   "source": [
    "import argparse\n",
    "import numpy as np\n",
    "from utils import check_output"
   ]
  },
  {
   "cell_type": "code",
   "execution_count": 6,
   "id": "936c44ea",
   "metadata": {},
   "outputs": [],
   "source": [
    "def get_paddings(array, pool_size, pool_stride):\n",
    "    \"\"\" \n",
    "    get padding sizes \n",
    "    args:\n",
    "    - array [array]: input np array NxwxHxC\n",
    "    - pool_size [int]: window size\n",
    "    - pool_stride [int]: stride\n",
    "    returns:\n",
    "    - paddings [list[list]]: paddings in np.pad format\n",
    "    \"\"\"\n",
    "    _, w, h, _ = array.shape\n",
    "    wpad = (w // pool_stride) * pool_stride + pool_size - w\n",
    "    hpad = (h // pool_stride) * pool_stride + pool_size - h\n",
    "    return [[0, 0], [0, wpad], [0, hpad], [0, 0]]\n",
    "\n",
    "\n",
    "def get_output_size(shape, pool_size, pool_stride):\n",
    "    \"\"\" \n",
    "    given input shape, pooling window and stride, output shape \n",
    "    args:\n",
    "    - shape [list]: input shape\n",
    "    - pool_size [int]: window size\n",
    "    - pool_stride [int]: stride\n",
    "    returns\n",
    "    - output_shape [list]: output array shape\n",
    "    \"\"\"\n",
    "    w = shape[1]\n",
    "    h = shape[2]\n",
    "    new_w = (w - pool_size) / pool_stride + 1\n",
    "    new_h = (h - pool_size) / pool_stride + 1\n",
    "    return [shape[0], int(new_w), int(new_h), shape[3]]\n",
    "\n",
    "\n",
    "# if __name__ == '__main__':\n",
    "#     parser = argparse.ArgumentParser(description='Download and process tf files')\n",
    "#     parser.add_argument('-f', '--pool_size', required=True, type=int, default=3,\n",
    "#                         help='pool filter size')\n",
    "#     parser.add_argument('-s', '--stride', required=True, type=int, default=3,\n",
    "#                         help='stride size')\n",
    "#     args = parser.parse_args()   \n",
    "\n",
    "#     input_array = np.random.rand(1, 224, 224, 16)\n",
    "#     pool_size = args.pool_size\n",
    "#     pool_stride = args.stride\n",
    "\n",
    "#     # padd the input layer\n",
    "#     paddings = get_paddings(input_array, pool_size, pool_stride)\n",
    "#     padded = np.pad(input_array, paddings, mode='constant', constant_values=0)\n",
    "\n",
    "#     # get output size\n",
    "#     output_size = get_output_size(padded.shape, pool_size, pool_stride)\n",
    "#     output = np.zeros(output_size)\n",
    "\n",
    "#     idx = 0\n",
    "#     for i in range(0, input_array.shape[1], pool_stride):\n",
    "#         jdx = 0\n",
    "#         for j in range(0, input_array.shape[2], pool_stride):\n",
    "#             local = padded[:, i: i + pool_stride, j: j + pool_stride, :]\n",
    "#             local_max = np.max(local, axis=(1, 2))\n",
    "#             output[:, idx, jdx, :] = local_max\n",
    "#             jdx += 1\n",
    "#         idx += 1\n",
    "#     check_output(output)"
   ]
  },
  {
   "cell_type": "code",
   "execution_count": 7,
   "id": "e785afef-8c9d-4be1-9a67-8c4b72645189",
   "metadata": {},
   "outputs": [],
   "source": [
    "# parser = argparse.ArgumentParser(description='Download and process tf files')\n",
    "# parser.add_argument('-f', '--pool_size', required=True, type=int, default=3,\n",
    "#                     help='pool filter size')\n",
    "# parser.add_argument('-s', '--stride', required=True, type=int, default=3,\n",
    "#                     help='stride size')\n",
    "# args = parser.parse_args()   \n",
    "\n",
    "input_array = np.random.rand(1, 224, 224, 16)\n",
    "pool_size = 3\n",
    "pool_stride = 3"
   ]
  },
  {
   "cell_type": "code",
   "execution_count": 19,
   "id": "1c3ff2b8-b364-4ed6-916b-dd3ee7073c1b",
   "metadata": {},
   "outputs": [
    {
     "data": {
      "text/plain": [
       "(1, 224, 224, 16)"
      ]
     },
     "execution_count": 19,
     "metadata": {},
     "output_type": "execute_result"
    }
   ],
   "source": [
    "np.shape(input_array)"
   ]
  },
  {
   "cell_type": "code",
   "execution_count": 8,
   "id": "7e53d950-ed49-4304-a6a5-3c93b81492b9",
   "metadata": {},
   "outputs": [
    {
     "data": {
      "text/plain": [
       "[[0, 0], [0, 1], [0, 1], [0, 0]]"
      ]
     },
     "execution_count": 8,
     "metadata": {},
     "output_type": "execute_result"
    }
   ],
   "source": [
    "# padd the input layer\n",
    "paddings = get_paddings(input_array, pool_size, pool_stride)\n",
    "paddings"
   ]
  },
  {
   "cell_type": "code",
   "execution_count": 15,
   "id": "191439aa-8b2a-461e-a041-e4b35dec33b0",
   "metadata": {},
   "outputs": [
    {
     "data": {
      "text/plain": [
       "(4, 2)"
      ]
     },
     "execution_count": 15,
     "metadata": {},
     "output_type": "execute_result"
    }
   ],
   "source": [
    "np.shape(paddings)"
   ]
  },
  {
   "cell_type": "code",
   "execution_count": 9,
   "id": "d8189ef5-408e-4603-b591-a1295f49c3b6",
   "metadata": {},
   "outputs": [
    {
     "data": {
      "text/plain": [
       "array([[[[0.48628422, 0.04745463, 0.60233175, ..., 0.69696621,\n",
       "          0.16704362, 0.58109798],\n",
       "         [0.62548352, 0.00210026, 0.76141451, ..., 0.43156369,\n",
       "          0.7514881 , 0.87361633],\n",
       "         [0.28742025, 0.04583271, 0.01968121, ..., 0.09892912,\n",
       "          0.11236923, 0.15795079],\n",
       "         ...,\n",
       "         [0.4563477 , 0.41430397, 0.01566077, ..., 0.27080769,\n",
       "          0.81601836, 0.51753541],\n",
       "         [0.67029353, 0.93326246, 0.1802359 , ..., 0.05915112,\n",
       "          0.79069409, 0.5828409 ],\n",
       "         [0.        , 0.        , 0.        , ..., 0.        ,\n",
       "          0.        , 0.        ]],\n",
       "\n",
       "        [[0.21159288, 0.20975868, 0.76779249, ..., 0.15001435,\n",
       "          0.38205389, 0.91329974],\n",
       "         [0.05969643, 0.23596564, 0.25873415, ..., 0.74691401,\n",
       "          0.288754  , 0.9837794 ],\n",
       "         [0.92281326, 0.33259653, 0.41385286, ..., 0.51789277,\n",
       "          0.4556575 , 0.25407531],\n",
       "         ...,\n",
       "         [0.91744888, 0.52929078, 0.37383976, ..., 0.02602016,\n",
       "          0.15877512, 0.27244231],\n",
       "         [0.50949166, 0.45477949, 0.2252084 , ..., 0.52785064,\n",
       "          0.81775213, 0.86619411],\n",
       "         [0.        , 0.        , 0.        , ..., 0.        ,\n",
       "          0.        , 0.        ]],\n",
       "\n",
       "        [[0.10069168, 0.00801509, 0.60717936, ..., 0.25427299,\n",
       "          0.4095076 , 0.91945558],\n",
       "         [0.05221169, 0.37848251, 0.03958063, ..., 0.2504085 ,\n",
       "          0.76783316, 0.8861009 ],\n",
       "         [0.75836019, 0.08716149, 0.09129707, ..., 0.08459956,\n",
       "          0.04339976, 0.77127506],\n",
       "         ...,\n",
       "         [0.83844702, 0.84567811, 0.01628775, ..., 0.16027819,\n",
       "          0.87846104, 0.36438196],\n",
       "         [0.70613909, 0.07093634, 0.63745085, ..., 0.7219901 ,\n",
       "          0.03199715, 0.29476273],\n",
       "         [0.        , 0.        , 0.        , ..., 0.        ,\n",
       "          0.        , 0.        ]],\n",
       "\n",
       "        ...,\n",
       "\n",
       "        [[0.50452447, 0.74546306, 0.49090763, ..., 0.61761684,\n",
       "          0.10021453, 0.96880484],\n",
       "         [0.52020907, 0.43804422, 0.35136832, ..., 0.39814193,\n",
       "          0.43192064, 0.70091702],\n",
       "         [0.79132967, 0.64971175, 0.68710961, ..., 0.92471165,\n",
       "          0.32150424, 0.90873208],\n",
       "         ...,\n",
       "         [0.27427701, 0.69979683, 0.96782443, ..., 0.63419385,\n",
       "          0.00120508, 0.42268583],\n",
       "         [0.85578383, 0.77859676, 0.87907367, ..., 0.12593981,\n",
       "          0.38970417, 0.85570731],\n",
       "         [0.        , 0.        , 0.        , ..., 0.        ,\n",
       "          0.        , 0.        ]],\n",
       "\n",
       "        [[0.67404473, 0.55918303, 0.00740523, ..., 0.13105452,\n",
       "          0.61374463, 0.61162888],\n",
       "         [0.74568262, 0.96190012, 0.39033398, ..., 0.83091428,\n",
       "          0.99681461, 0.19677423],\n",
       "         [0.41658437, 0.97512214, 0.13477502, ..., 0.61022853,\n",
       "          0.24510601, 0.22685178],\n",
       "         ...,\n",
       "         [0.70973058, 0.10592917, 0.19382391, ..., 0.73956807,\n",
       "          0.97640202, 0.15100082],\n",
       "         [0.01193839, 0.06806213, 0.32998022, ..., 0.60235074,\n",
       "          0.69973374, 0.03436469],\n",
       "         [0.        , 0.        , 0.        , ..., 0.        ,\n",
       "          0.        , 0.        ]],\n",
       "\n",
       "        [[0.        , 0.        , 0.        , ..., 0.        ,\n",
       "          0.        , 0.        ],\n",
       "         [0.        , 0.        , 0.        , ..., 0.        ,\n",
       "          0.        , 0.        ],\n",
       "         [0.        , 0.        , 0.        , ..., 0.        ,\n",
       "          0.        , 0.        ],\n",
       "         ...,\n",
       "         [0.        , 0.        , 0.        , ..., 0.        ,\n",
       "          0.        , 0.        ],\n",
       "         [0.        , 0.        , 0.        , ..., 0.        ,\n",
       "          0.        , 0.        ],\n",
       "         [0.        , 0.        , 0.        , ..., 0.        ,\n",
       "          0.        , 0.        ]]]])"
      ]
     },
     "execution_count": 9,
     "metadata": {},
     "output_type": "execute_result"
    }
   ],
   "source": [
    "padded = np.pad(input_array, paddings, mode='constant', constant_values=0)\n",
    "padded"
   ]
  },
  {
   "cell_type": "code",
   "execution_count": 17,
   "id": "b7d51d31-b9e9-4def-bece-3b608a986204",
   "metadata": {},
   "outputs": [
    {
     "data": {
      "text/plain": [
       "(1, 225, 225, 16)"
      ]
     },
     "execution_count": 17,
     "metadata": {},
     "output_type": "execute_result"
    }
   ],
   "source": [
    "np.shape(padded)"
   ]
  },
  {
   "cell_type": "code",
   "execution_count": 10,
   "id": "fce2908c-0870-4ada-bf79-b978d1720e11",
   "metadata": {},
   "outputs": [
    {
     "data": {
      "text/plain": [
       "array([[[[0., 0., 0., ..., 0., 0., 0.],\n",
       "         [0., 0., 0., ..., 0., 0., 0.],\n",
       "         [0., 0., 0., ..., 0., 0., 0.],\n",
       "         ...,\n",
       "         [0., 0., 0., ..., 0., 0., 0.],\n",
       "         [0., 0., 0., ..., 0., 0., 0.],\n",
       "         [0., 0., 0., ..., 0., 0., 0.]],\n",
       "\n",
       "        [[0., 0., 0., ..., 0., 0., 0.],\n",
       "         [0., 0., 0., ..., 0., 0., 0.],\n",
       "         [0., 0., 0., ..., 0., 0., 0.],\n",
       "         ...,\n",
       "         [0., 0., 0., ..., 0., 0., 0.],\n",
       "         [0., 0., 0., ..., 0., 0., 0.],\n",
       "         [0., 0., 0., ..., 0., 0., 0.]],\n",
       "\n",
       "        [[0., 0., 0., ..., 0., 0., 0.],\n",
       "         [0., 0., 0., ..., 0., 0., 0.],\n",
       "         [0., 0., 0., ..., 0., 0., 0.],\n",
       "         ...,\n",
       "         [0., 0., 0., ..., 0., 0., 0.],\n",
       "         [0., 0., 0., ..., 0., 0., 0.],\n",
       "         [0., 0., 0., ..., 0., 0., 0.]],\n",
       "\n",
       "        ...,\n",
       "\n",
       "        [[0., 0., 0., ..., 0., 0., 0.],\n",
       "         [0., 0., 0., ..., 0., 0., 0.],\n",
       "         [0., 0., 0., ..., 0., 0., 0.],\n",
       "         ...,\n",
       "         [0., 0., 0., ..., 0., 0., 0.],\n",
       "         [0., 0., 0., ..., 0., 0., 0.],\n",
       "         [0., 0., 0., ..., 0., 0., 0.]],\n",
       "\n",
       "        [[0., 0., 0., ..., 0., 0., 0.],\n",
       "         [0., 0., 0., ..., 0., 0., 0.],\n",
       "         [0., 0., 0., ..., 0., 0., 0.],\n",
       "         ...,\n",
       "         [0., 0., 0., ..., 0., 0., 0.],\n",
       "         [0., 0., 0., ..., 0., 0., 0.],\n",
       "         [0., 0., 0., ..., 0., 0., 0.]],\n",
       "\n",
       "        [[0., 0., 0., ..., 0., 0., 0.],\n",
       "         [0., 0., 0., ..., 0., 0., 0.],\n",
       "         [0., 0., 0., ..., 0., 0., 0.],\n",
       "         ...,\n",
       "         [0., 0., 0., ..., 0., 0., 0.],\n",
       "         [0., 0., 0., ..., 0., 0., 0.],\n",
       "         [0., 0., 0., ..., 0., 0., 0.]]]])"
      ]
     },
     "execution_count": 10,
     "metadata": {},
     "output_type": "execute_result"
    }
   ],
   "source": [
    "# get output size\n",
    "output_size = get_output_size(padded.shape, pool_size, pool_stride)\n",
    "output = np.zeros(output_size)\n",
    "output"
   ]
  },
  {
   "cell_type": "code",
   "execution_count": 20,
   "id": "e75f40ac-3923-47ae-8608-e94ca669edb2",
   "metadata": {},
   "outputs": [
    {
     "data": {
      "text/plain": [
       "(1, 75, 75, 16)"
      ]
     },
     "execution_count": 20,
     "metadata": {},
     "output_type": "execute_result"
    }
   ],
   "source": [
    "np.shape(output)"
   ]
  },
  {
   "cell_type": "code",
   "execution_count": 11,
   "id": "4bdac7c8-f964-4745-92a5-a5003adeb4fe",
   "metadata": {},
   "outputs": [
    {
     "name": "stdout",
     "output_type": "stream",
     "text": [
      "Success!\n"
     ]
    }
   ],
   "source": [
    "idx = 0\n",
    "for i in range(0, input_array.shape[1], pool_stride):\n",
    "    jdx = 0\n",
    "    for j in range(0, input_array.shape[2], pool_stride):\n",
    "        local = padded[:, i: i + pool_stride, j: j + pool_stride, :]\n",
    "        local_max = np.max(local, axis=(1, 2))\n",
    "        output[:, idx, jdx, :] = local_max\n",
    "        jdx += 1\n",
    "    idx += 1\n",
    "    \n",
    "check_output(output)"
   ]
  },
  {
   "cell_type": "code",
   "execution_count": 16,
   "id": "d9eae5fb-9775-4434-acb8-e0f7efe7df3e",
   "metadata": {},
   "outputs": [],
   "source": [
    "# output"
   ]
  },
  {
   "cell_type": "code",
   "execution_count": null,
   "id": "8b3d48da-d777-4d15-8dff-9e4398ef6b2f",
   "metadata": {},
   "outputs": [],
   "source": []
  }
 ],
 "metadata": {
  "kernelspec": {
   "display_name": "TF_env",
   "language": "python",
   "name": "tf_env"
  },
  "language_info": {
   "codemirror_mode": {
    "name": "ipython",
    "version": 3
   },
   "file_extension": ".py",
   "mimetype": "text/x-python",
   "name": "python",
   "nbconvert_exporter": "python",
   "pygments_lexer": "ipython3",
   "version": "3.9.18"
  }
 },
 "nbformat": 4,
 "nbformat_minor": 5
}
