{
 "cells": [
  {
   "cell_type": "code",
   "execution_count": 1,
   "id": "f7a43f2f",
   "metadata": {},
   "outputs": [
    {
     "name": "stderr",
     "output_type": "stream",
     "text": [
      "2025-03-22 15:00:01.302112: I tensorflow/core/platform/cpu_feature_guard.cc:193] This TensorFlow binary is optimized with oneAPI Deep Neural Network Library (oneDNN) to use the following CPU instructions in performance-critical operations:  AVX2 AVX_VNNI FMA\n",
      "To enable them in other operations, rebuild TensorFlow with the appropriate compiler flags.\n",
      "2025-03-22 15:00:01.548607: I tensorflow/core/util/port.cc:104] oneDNN custom operations are on. You may see slightly different numerical results due to floating-point round-off errors from different computation orders. To turn them off, set the environment variable `TF_ENABLE_ONEDNN_OPTS=0`.\n",
      "2025-03-22 15:00:01.557353: W tensorflow/compiler/xla/stream_executor/platform/default/dso_loader.cc:64] Could not load dynamic library 'libcudart.so.11.0'; dlerror: libcudart.so.11.0: cannot open shared object file: No such file or directory\n",
      "2025-03-22 15:00:01.557381: I tensorflow/compiler/xla/stream_executor/cuda/cudart_stub.cc:29] Ignore above cudart dlerror if you do not have a GPU set up on your machine.\n",
      "2025-03-22 15:00:02.868382: W tensorflow/compiler/xla/stream_executor/platform/default/dso_loader.cc:64] Could not load dynamic library 'libnvinfer.so.7'; dlerror: libnvinfer.so.7: cannot open shared object file: No such file or directory\n",
      "2025-03-22 15:00:02.868541: W tensorflow/compiler/xla/stream_executor/platform/default/dso_loader.cc:64] Could not load dynamic library 'libnvinfer_plugin.so.7'; dlerror: libnvinfer_plugin.so.7: cannot open shared object file: No such file or directory\n",
      "2025-03-22 15:00:02.868556: W tensorflow/compiler/tf2tensorrt/utils/py_utils.cc:38] TF-TRT Warning: Cannot dlopen some TensorRT libraries. If you would like to use Nvidia GPU with TensorRT, please make sure the missing libraries mentioned above are installed properly.\n"
     ]
    }
   ],
   "source": [
    "import io\n",
    "import os\n",
    "\n",
    "import tensorflow.compat.v1 as tf\n",
    "from PIL import Image\n",
    "from waymo_open_dataset import dataset_pb2 as open_dataset\n",
    "\n",
    "# from utils import parse_frame, int64_feature, int64_list_feature, bytes_feature bytes_list_feature, float_list_feature"
   ]
  },
  {
   "cell_type": "code",
   "execution_count": 2,
   "id": "59d8399c",
   "metadata": {},
   "outputs": [
    {
     "name": "stdout",
     "output_type": "stream",
     "text": [
      "2.11.0\n"
     ]
    }
   ],
   "source": [
    "import tensorflow as tf\n",
    "print(tf.__version__)"
   ]
  },
  {
   "cell_type": "code",
   "execution_count": 5,
   "id": "c2cc6d9e",
   "metadata": {},
   "outputs": [],
   "source": [
    "def create_tf_example(filename, encoded_jpeg, annotations):\n",
    "    \"\"\"\n",
    "    convert to tensorflow object detection API format\n",
    "    args:\n",
    "    - filename [str]: name of the image\n",
    "    - encoded_jpeg [bytes-likes]: encoded image\n",
    "    - annotations [list]: bboxes and classes\n",
    "    returns:\n",
    "    - tf_example [tf.Example]\n",
    "    \"\"\"\n",
    "    encoded_jpg_io = io.BytesIO(encoded_jpeg)\n",
    "    image = Image.open(encoded_jpg_io)\n",
    "    width, height = image.size\n",
    "    \n",
    "    mapping = {1: 'vehicle', 2: 'pedestrian', 4: 'cyclist'}\n",
    "    image_format = b'jpg'\n",
    "    xmins = []\n",
    "    xmaxs = []\n",
    "    ymins = []\n",
    "    ymaxs = []\n",
    "    classes_text = []\n",
    "    classes = []\n",
    "    filename = filename.encode('utf8')\n",
    "    \n",
    "    for ann in annotations:\n",
    "        xmin, ymin = ann.box.center_x - 0.5 * ann.box.length,ann.box.center_y - 0.5 * ann.box.width\n",
    "        xmax, ymax = ann.box.center_x + 0.5 * ann.box.length,  ann.box.center_y + 0.5 * ann.box.width\n",
    "        xmins.append(xmin / width)\n",
    "        xmaxs.append(xmax / width)\n",
    "        ymins.append(ymin / height)\n",
    "        ymaxs.append(ymax / height)    \n",
    "        classes.append(ann.type)\n",
    "        classes_text.append(mapping[ann.type].encode('utf8'))\n",
    "\n",
    "    tf_example = tf.train.Example(features=tf.train.Features(feature={\n",
    "        'image/height': int64_feature(height),\n",
    "        'image/width': int64_feature(width),\n",
    "        'image/filename': bytes_feature(filename),\n",
    "        'image/source_id': bytes_feature(filename),\n",
    "        'image/encoded': bytes_feature(encoded_jpeg),\n",
    "        'image/format': bytes_feature(image_format),\n",
    "        'image/object/bbox/xmin': float_list_feature(xmins),\n",
    "        'image/object/bbox/xmax': float_list_feature(xmaxs),\n",
    "        'image/object/bbox/ymin': float_list_feature(ymins),\n",
    "        'image/object/bbox/ymax': float_list_feature(ymaxs),\n",
    "        'image/object/class/text': bytes_list_feature(classes_text),\n",
    "        'image/object/class/label': int64_list_feature(classes),\n",
    "    }))\n",
    "    return tf_example\n",
    "\n",
    "\n",
    "def process_tfr(path):\n",
    "    \"\"\"\n",
    "    process a waymo tf record into a tf api tf record\n",
    "    \"\"\"\n",
    "    # create processed data dir\n",
    "    file_name = os.path.basename(path)\n",
    "\n",
    "    logger.info(f'Processing {path}')\n",
    "    writer = tf.python_io.TFRecordWriter(f'{dest}/{file_name}')\n",
    "    dataset = tf.data.TFRecordDataset(path, compression_type='')\n",
    "    \n",
    "    for idx, data in enumerate(dataset):\n",
    "        frame = open_dataset.Frame()\n",
    "        frame.ParseFromString(bytearray(data.numpy()))\n",
    "        encoded_jpeg, annotations = parse_frame(frame)\n",
    "        filename = file_name.replace('.tfrecord', f'_{idx}.tfrecord')\n",
    "        tf_example = create_tf_example(filename, encoded_jpeg, annotations)\n",
    "        writer.write(tf_example.SerializeToString())\n",
    "    writer.close()\n"
   ]
  },
  {
   "cell_type": "code",
   "execution_count": null,
   "id": "414de2fa-dbcb-4eb6-9d63-ff359d9ceeb8",
   "metadata": {},
   "outputs": [],
   "source": [
    "if __name__ == \"__main__\": \n",
    "    parser = argparse.ArgumentParser()\n",
    "    parser.add_argument('-p', '--path', required=True, type=str,\n",
    "                        help='Waymo Open dataset tf record')\n",
    "    args = parser.parse_args()  \n",
    "    process_tfr(args.path)"
   ]
  }
 ],
 "metadata": {
  "kernelspec": {
   "display_name": "Python 3 (ipykernel)",
   "language": "python",
   "name": "python3"
  },
  "language_info": {
   "codemirror_mode": {
    "name": "ipython",
    "version": 3
   },
   "file_extension": ".py",
   "mimetype": "text/x-python",
   "name": "python",
   "nbconvert_exporter": "python",
   "pygments_lexer": "ipython3",
   "version": "3.9.18"
  }
 },
 "nbformat": 4,
 "nbformat_minor": 5
}
