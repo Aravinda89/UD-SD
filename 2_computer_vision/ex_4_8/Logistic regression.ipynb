{
 "cells": [
  {
   "cell_type": "code",
   "execution_count": 1,
   "id": "a20222f0-fd72-4b16-b5cc-829fa8104382",
   "metadata": {},
   "outputs": [],
   "source": [
    "import tensorflow as tf\n",
    "\n",
    "from utils import check_softmax, check_acc, check_model, check_ce"
   ]
  },
  {
   "cell_type": "code",
   "execution_count": 2,
   "id": "8062bdaa-c189-4f91-8651-f34b2d1022c3",
   "metadata": {},
   "outputs": [],
   "source": [
    "def softmax(logits):\n",
    "    \"\"\"\n",
    "    softmax implementation\n",
    "    args:\n",
    "    - logits [tensor]: 1xN logits tensor\n",
    "    returns:\n",
    "    - soft_logits [tensor]: softmax of logits\n",
    "    \"\"\"\n",
    "    exp = tf.exp(logits)\n",
    "    denom = tf.math.reduce_sum(exp, 1, keepdims=True)\n",
    "    return exp / denom\n",
    "\n",
    "\n",
    "def cross_entropy(scaled_logits, one_hot):\n",
    "    \"\"\"\n",
    "    Cross entropy loss implementation\n",
    "    args:\n",
    "    - scaled_logits [tensor]: NxC tensor where N batch size / C number of classes\n",
    "    - one_hot [tensor]: one hot tensor\n",
    "    returns:\n",
    "    - loss [tensor]: cross entropy \n",
    "    \"\"\"\n",
    "    masked_logits = tf.boolean_mask(scaled_logits, one_hot) \n",
    "    return -tf.math.log(masked_logits)\n",
    "\n",
    "\n",
    "def model(X, W, b):\n",
    "    \"\"\"\n",
    "    logistic regression model\n",
    "    args:\n",
    "    - X [tensor]: input HxWx3\n",
    "    - W [tensor]: weights\n",
    "    - b [tensor]: bias\n",
    "    returns:\n",
    "    - output [tensor]\n",
    "    \"\"\"\n",
    "    flatten_X = tf.reshape(X, (-1, W.shape[0]))\n",
    "    return softmax(tf.matmul(flatten_X, W) + b)\n",
    "\n",
    "\n",
    "def accuracy(y_hat, Y):\n",
    "    \"\"\"\n",
    "    calculate accuracy\n",
    "    args:\n",
    "    - y_hat [tensor]: NxC tensor of models predictions\n",
    "    - y [tensor]: N tensor of ground truth classes\n",
    "    returns:\n",
    "    - acc [tensor]: accuracy\n",
    "    \"\"\"\n",
    "    # calculate argmax\n",
    "    argmax = tf.cast(tf.argmax(y_hat, axis=1), Y.dtype)\n",
    "\n",
    "    # calculate acc\n",
    "    acc = tf.math.reduce_sum(tf.cast(argmax == Y, tf.int32)) / Y.shape[0]\n",
    "    return acc\n",
    "\n",
    "\n",
    "# if __name__ == '__main__':\n",
    "#     # checking the softmax implementation\n",
    "#     check_softmax(softmax)\n",
    "\n",
    "#     # checking the NLL implementation\n",
    "#     check_ce(cross_entropy)\n",
    "\n",
    "#     # check the model implementation\n",
    "#     check_model(model)\n",
    "\n",
    "#     # check the accuracy implementation\n",
    "#     check_acc(accuracy)"
   ]
  },
  {
   "cell_type": "code",
   "execution_count": 3,
   "id": "31e1e51e-8e7f-49ca-9d6d-0e65c9db499d",
   "metadata": {},
   "outputs": [
    {
     "name": "stdout",
     "output_type": "stream",
     "text": [
      "Softmax implementation is correct!\n"
     ]
    }
   ],
   "source": [
    "check_softmax(softmax)"
   ]
  },
  {
   "cell_type": "code",
   "execution_count": 4,
   "id": "eab49f48-dd20-4c81-b952-b28c5091c513",
   "metadata": {},
   "outputs": [
    {
     "name": "stdout",
     "output_type": "stream",
     "text": [
      "CE implementation is correct!\n"
     ]
    }
   ],
   "source": [
    "check_ce(cross_entropy)"
   ]
  },
  {
   "cell_type": "code",
   "execution_count": 5,
   "id": "7066311a-6e5e-4487-b415-9df67a45c861",
   "metadata": {},
   "outputs": [
    {
     "name": "stdout",
     "output_type": "stream",
     "text": [
      "Model implementation is correct!\n"
     ]
    }
   ],
   "source": [
    "check_model(model)"
   ]
  },
  {
   "cell_type": "code",
   "execution_count": 6,
   "id": "dda2cf79-975d-43b1-9193-f47f501bbaeb",
   "metadata": {},
   "outputs": [
    {
     "name": "stdout",
     "output_type": "stream",
     "text": [
      "Accuracy implementation is correct!\n"
     ]
    }
   ],
   "source": [
    "check_acc(accuracy)"
   ]
  },
  {
   "cell_type": "code",
   "execution_count": null,
   "id": "8b53d645-afc4-48ef-b3bd-2a5eaa88ef9d",
   "metadata": {},
   "outputs": [],
   "source": []
  }
 ],
 "metadata": {
  "kernelspec": {
   "display_name": "TF_env",
   "language": "python",
   "name": "tf_env"
  },
  "language_info": {
   "codemirror_mode": {
    "name": "ipython",
    "version": 3
   },
   "file_extension": ".py",
   "mimetype": "text/x-python",
   "name": "python",
   "nbconvert_exporter": "python",
   "pygments_lexer": "ipython3",
   "version": "3.9.18"
  }
 },
 "nbformat": 4,
 "nbformat_minor": 5
}
